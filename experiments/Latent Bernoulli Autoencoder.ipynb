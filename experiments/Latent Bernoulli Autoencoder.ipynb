{
 "cells": [
  {
   "cell_type": "code",
   "execution_count": 1,
   "metadata": {},
   "outputs": [
    {
     "name": "stdout",
     "output_type": "stream",
     "text": [
      "2.3.0\n"
     ]
    }
   ],
   "source": [
    "import tensorflow as tf\n",
    "from mnist import load_mnist, evaluate\n",
    "\n",
    "tf.random.set_seed(42)\n",
    "\n",
    "tf.keras.backend.clear_session()\n",
    "\n",
    "print(tf.__version__)"
   ]
  },
  {
   "cell_type": "code",
   "execution_count": 2,
   "metadata": {},
   "outputs": [],
   "source": [
    "# configurations\n",
    "\n",
    "IMAGE_SIZE = (16, 16)\n",
    "BINARIZE = True\n",
    "AUTOENCODER_TYPE = ('vanilla', 'variational')[1]\n",
    "NUM_DATA = 100000"
   ]
  },
  {
   "cell_type": "code",
   "execution_count": 3,
   "metadata": {},
   "outputs": [],
   "source": [
    "(x_train, _), _ = load_mnist(image_size=IMAGE_SIZE, binarize=BINARIZE)\n",
    "x_train = (x_train + 1) / 2  # x \\in [0, 1]"
   ]
  },
  {
   "cell_type": "code",
   "execution_count": 4,
   "metadata": {},
   "outputs": [],
   "source": [
    "def binarize(x, threshold):\n",
    "    \"\"\"Returns 1 if x > threshold else 0, element-wisely.\n",
    "\n",
    "    Parameters\n",
    "    ----------\n",
    "    x : tensor\n",
    "    threshold : float\n",
    "\n",
    "    Returns\n",
    "    -------\n",
    "    tensor\n",
    "        The same shape and dtype as x.\n",
    "    \"\"\"\n",
    "    y = tf.where(x > threshold, 1, 0)\n",
    "    y = tf.cast(y, x.dtype)\n",
    "    return y\n",
    "\n",
    "\n",
    "def softly_binarize(x, threshold):\n",
    "    \"\"\"Returns 1 if x > threshold else 0, element-wisely, with the gradients\n",
    "    :math:`\\partial f_i / \\partial x_j = \\delta_{i j}`, i.e. an unit Jacobian.\n",
    "\n",
    "    Parameters\n",
    "    ----------\n",
    "    x : tensor\n",
    "    threshold : float\n",
    "\n",
    "    Returns\n",
    "    -------\n",
    "    tensor\n",
    "        The same shape and dtype as x.\n",
    "    \"\"\"\n",
    "\n",
    "    def identity(dy):\n",
    "        return dy\n",
    "\n",
    "    @tf.custom_gradient\n",
    "    def fn(x):\n",
    "        y = binarize(x, threshold)\n",
    "        return y, identity\n",
    "\n",
    "    return fn(x)\n",
    "\n",
    "\n",
    "class SoftBinarization(tf.keras.layers.Layer):\n",
    "    \"\"\"For using in tf.keras.Sequential.\n",
    "\n",
    "    If in training phase, then do nothing. Otherwise, make soft binarization.\n",
    "\n",
    "    Parameters\n",
    "    ----------\n",
    "    threshold : float\n",
    "    \"\"\"\n",
    "\n",
    "    def __init__(self, threshold, **kwargs):\n",
    "        super().__init__(**kwargs)\n",
    "        self.threshold = threshold\n",
    "\n",
    "    def call(self, x, training=None):\n",
    "        if training:\n",
    "            return x\n",
    "        return softly_binarize(x, self.threshold)"
   ]
  },
  {
   "cell_type": "code",
   "execution_count": 5,
   "metadata": {},
   "outputs": [],
   "source": [
    "class MLP(tf.keras.layers.Layer):\n",
    "    \"\"\"Multi-layer perceptron (MLP).\n",
    "\n",
    "    Parameters\n",
    "    ----------\n",
    "    units : [int]\n",
    "    activation : callable or string, optional\n",
    "    \"\"\"\n",
    "\n",
    "    def __init__(self, units, activation=None, **kwargs):\n",
    "        super().__init__(**kwargs)\n",
    "        self.units = units\n",
    "        self.activation = activation\n",
    "\n",
    "    def build(self, batch_input_shape):\n",
    "        layers = [tf.keras.layers.Dense(n, 'relu') for n in self.units[:-1]]\n",
    "        layers.append(tf.keras.layers.Dense(self.units[-1], self.activation))\n",
    "        self._ffn = tf.keras.Sequential(layers)\n",
    "        self._ffn.build(batch_input_shape)\n",
    "        super().build(batch_input_shape)\n",
    "\n",
    "    def call(self, x):\n",
    "        y = self._ffn(x)\n",
    "        return y"
   ]
  },
  {
   "cell_type": "code",
   "execution_count": 6,
   "metadata": {},
   "outputs": [],
   "source": [
    "class LatentBernoulliVanillaAutoencoder(tf.keras.layers.Layer):\n",
    "    \"\"\"\n",
    "    Parameters\n",
    "    ----------\n",
    "    units : [int]\n",
    "    activation : callable or string, optional\n",
    "    \"\"\"\n",
    "\n",
    "    def __init__(self, units, activation=None, **kwargs):\n",
    "        super().__init__(**kwargs)\n",
    "        self.units = units\n",
    "        self.activation = activation\n",
    "\n",
    "        self._encoder = MLP(units, 'sigmoid')\n",
    "\n",
    "    def build(self, batch_input_shape):\n",
    "        ambient_dim = batch_input_shape[-1]\n",
    "        units = self.units[::-1][1:] + [ambient_dim]  # symmetric structure\n",
    "        self._decoder = MLP(units, self.activation)\n",
    "        super().build(batch_input_shape)\n",
    "\n",
    "    def encode(self, x):\n",
    "        z = self._encoder(x)\n",
    "        z = softly_binarize(z, 0.5)\n",
    "        return z\n",
    "\n",
    "    def decode(self, z):\n",
    "        x = self._decoder(z)\n",
    "        return x\n",
    "\n",
    "    def call(self, x):\n",
    "        z = self.encode(x)\n",
    "        x_recon = self.decode(z)\n",
    "        return x_recon"
   ]
  },
  {
   "cell_type": "code",
   "execution_count": 7,
   "metadata": {},
   "outputs": [],
   "source": [
    "class LatentBernoulliVariationalAutoencoder(tf.keras.layers.Layer):\n",
    "    \"\"\"\n",
    "    References\n",
    "    ----------\n",
    "    1. https://davidstutz.de/bernoulli-variational-auto-encoder-in-torch/\n",
    "    2. Information Theory, Inference, and Learning Algorithms, D. Mackay,\n",
    "       section 33.2\n",
    "\n",
    "    Parameters\n",
    "    ----------\n",
    "    units : [int]\n",
    "    activation : callable or string, optional\n",
    "    temperature : float, optional\n",
    "    num_samples : int, optional\n",
    "        Number of samples for Monte-Carlo integral.\n",
    "    \"\"\"\n",
    "\n",
    "    def __init__(self, units, activation=None, temperature=0,\n",
    "                 num_samples=32, **kwargs):\n",
    "        super().__init__(**kwargs)\n",
    "        self.units = units\n",
    "        self.activation = activation\n",
    "        self.temperature = float(temperature)\n",
    "        self.num_samples = num_samples\n",
    "\n",
    "        self._encoder = MLP(units, name='encoder')\n",
    "\n",
    "    def build(self, batch_input_shape):\n",
    "        ambient_dim = batch_input_shape[-1]\n",
    "        units = self.units[::-1][1:] + [ambient_dim]  # symmetric structure\n",
    "        self._decoder = MLP(units, self.activation, name='decoder')\n",
    "        super().build(batch_input_shape)\n",
    "\n",
    "    def encode(self, x, training=None):\n",
    "        \"\"\"Add regularizer if training.\"\"\"\n",
    "        latent_logits = self._encoder(x)\n",
    "\n",
    "        if training:\n",
    "            sampled_latent_logits = self._reparam_trick(\n",
    "                latent_logits, self.num_samples)\n",
    "            latent_entropy = self._latent_entropy(sampled_latent_logits)\n",
    "            self.add_loss(- self.temperature * tf.reduce_mean(latent_entropy))\n",
    "\n",
    "        else:\n",
    "            sampled_latent_logits = self._reparam_trick(latent_logits, 1)\n",
    "\n",
    "        # use the first sample as the result to return\n",
    "        z = softly_binarize(tf.nn.sigmoid(sampled_latent_logits[0]), 0.5)\n",
    "        return z\n",
    "\n",
    "    def decode(self, z):\n",
    "        return self._decoder(z)\n",
    "\n",
    "    def call(self, x, training=None):\n",
    "        z = self.encode(x, training)\n",
    "        x_recon = self.decode(z)\n",
    "        return x_recon\n",
    "\n",
    "    @staticmethod\n",
    "    def _reparam_trick(logits, num_samples):\n",
    "        \"\"\"\n",
    "        Notes\n",
    "        -----\n",
    "        s: random seed\n",
    "        p: Bernoulli probability\n",
    "        g(s, p): re-parameterization trick for Bernoulli distribution\n",
    "            E_{z ~ bernoulli(p=f(x; w))} [...(z)]\n",
    "            -> E_{s ~ uniform(0, 1)} [...(z=g(s, p=f(x;w)))],\n",
    "            where gradient(g(s, p), p) exists.\n",
    "\n",
    "        Lemma:\n",
    "            s ~ uniform(0, 1)\n",
    "            a = s / (1 - s) * p / (1 - p)\n",
    "            z = 1 if a > 1 else 0\n",
    "            => z ~ bernoulli(p)\n",
    "\n",
    "        Parameters\n",
    "        ----------\n",
    "        logits : tensor\n",
    "            Shape [batch_size, depth...].\n",
    "        num_samples : int\n",
    "\n",
    "        Returns\n",
    "        -------\n",
    "        tensor\n",
    "            Shape [num_samples, batch_size, depth...].\n",
    "        \"\"\"\n",
    "        # seed\n",
    "        eps = 1e-8\n",
    "        s = tf.random.uniform(shape=([num_samples, 1] + logits.shape[1:]),\n",
    "                              minval=eps, maxval=1-eps)  # [S, B, D...]\n",
    "\n",
    "        logits = logits[tf.newaxis, ...]  # [1, B, D...]\n",
    "        # employ the relation log(sigmoid(x)) - log(1 - sigmoid(x)) = x\n",
    "        sampled_logits = tf.math.log(s) - tf.math.log(1 - s) + logits\n",
    "        return sampled_logits  # [S, B, D...]\n",
    "\n",
    "    @staticmethod\n",
    "    def _latent_entropy(latent_logits):\n",
    "        \"\"\"Entropy of the latent variable.\n",
    "\n",
    "        Parameters\n",
    "        ----------\n",
    "        latent_logits : tensor\n",
    "            Shape [num_samples, batch_size, depth...].\n",
    "\n",
    "        Returns\n",
    "        -------\n",
    "        tensor\n",
    "            Shape [batch_size, depth...].\n",
    "        \"\"\"\n",
    "        p = tf.nn.sigmoid(latent_logits)\n",
    "        log_p = log_sigmoid(latent_logits)\n",
    "        log_1mp = log_1m_sigmoid(latent_logits)\n",
    "        entropy = tf.reduce_mean(\n",
    "            -p * log_p - (1 - p) * log_1mp,\n",
    "            axis=0)\n",
    "        return entropy\n",
    "\n",
    "    def latent_entropy(self, x):\n",
    "        latent_logits = self._encoder(x)\n",
    "        sampled_latent_logits = self._reparam_trick(\n",
    "            latent_logits, self.num_samples)\n",
    "        return self._latent_entropy(sampled_latent_logits)\n",
    "\n",
    "\n",
    "def log_sigmoid(x):\n",
    "    \"\"\"log(sigmoid(x)) = x - softplus(x)\"\"\"\n",
    "    return x - tf.nn.softplus(x)\n",
    "\n",
    "\n",
    "def log_1m_sigmoid(x):\n",
    "    \"\"\"log(1 - sigmoid(x)) = - softplus(x)\"\"\"\n",
    "    return - tf.nn.softplus(x)"
   ]
  },
  {
   "cell_type": "code",
   "execution_count": 8,
   "metadata": {},
   "outputs": [],
   "source": [
    "layers = [tf.keras.Input([IMAGE_SIZE[0] * IMAGE_SIZE[1]])]\n",
    "if AUTOENCODER_TYPE == 'vanilla':\n",
    "    layers += [\n",
    "        LatentBernoulliVanillaAutoencoder([128], 'sigmoid'),\n",
    "    ]\n",
    "elif AUTOENCODER_TYPE == 'variational':\n",
    "    layers += [\n",
    "        LatentBernoulliVariationalAutoencoder([128], 'sigmoid', temperature=1e-1),\n",
    "    ]\n",
    "else:\n",
    "    raise ValueError()\n",
    "if BINARIZE:\n",
    "    layers.append(SoftBinarization(0.5))\n",
    "ae = tf.keras.Sequential(layers)\n",
    "ae.compile(loss='binary_crossentropy', optimizer='adam')"
   ]
  },
  {
   "cell_type": "code",
   "execution_count": 9,
   "metadata": {},
   "outputs": [
    {
     "name": "stdout",
     "output_type": "stream",
     "text": [
      "tf.Tensor(\n",
      "[[0.5311989  0.49794334 0.46502835 ... 0.4991396  0.5184415  0.47476488]\n",
      " [0.50265276 0.49964002 0.4607601  ... 0.49626303 0.5213367  0.47517404]\n",
      " [0.5285321  0.4643851  0.45708093 ... 0.48388186 0.52732533 0.47585917]\n",
      " ...\n",
      " [0.5232846  0.49472803 0.46314654 ... 0.47321644 0.5244802  0.47594783]\n",
      " [0.529883   0.4837119  0.44624418 ... 0.49905133 0.51960224 0.47355804]\n",
      " [0.53211087 0.48930827 0.4645174  ... 0.49777377 0.5181206  0.4753609 ]], shape=(1000, 128), dtype=float32)\n"
     ]
    }
   ],
   "source": [
    "if AUTOENCODER_TYPE == 'variational':\n",
    "    print(ae.layers[0].latent_entropy(x_train[:1000]))"
   ]
  },
  {
   "cell_type": "code",
   "execution_count": 10,
   "metadata": {},
   "outputs": [
    {
     "name": "stdout",
     "output_type": "stream",
     "text": [
      "9375/9375 [==============================] - 188s 20ms/step - loss: 0.0820\n"
     ]
    },
    {
     "data": {
      "text/plain": [
       "<tensorflow.python.keras.callbacks.History at 0x7f9bcaac2850>"
      ]
     },
     "execution_count": 10,
     "metadata": {},
     "output_type": "execute_result"
    }
   ],
   "source": [
    "ds = tf.data.Dataset.from_tensor_slices((x_train[:NUM_DATA], x_train[:NUM_DATA]))\n",
    "ds = ds.shuffle(10000).repeat(20).batch(128)\n",
    "ae.fit(ds)"
   ]
  },
  {
   "cell_type": "code",
   "execution_count": 11,
   "metadata": {},
   "outputs": [
    {
     "data": {
      "text/plain": [
       "0.96655078125"
      ]
     },
     "execution_count": 11,
     "metadata": {},
     "output_type": "execute_result"
    }
   ],
   "source": [
    "evaluate(ae, x_train[:1000])"
   ]
  },
  {
   "cell_type": "code",
   "execution_count": 12,
   "metadata": {},
   "outputs": [
    {
     "name": "stdout",
     "output_type": "stream",
     "text": [
      "tf.Tensor(\n",
      "[[0.17984132 0.458338   0.22270392 ... 0.2828574  0.44339666 0.5558857 ]\n",
      " [0.41277337 0.13451087 0.47614962 ... 0.45242667 0.213196   0.20086694]\n",
      " [0.22100163 0.28897628 0.09775801 ... 0.41875204 0.45865586 0.4374593 ]\n",
      " ...\n",
      " [0.3666371  0.45889845 0.5153576  ... 0.12083052 0.15528767 0.3957003 ]\n",
      " [0.18095787 0.41750324 0.44503713 ... 0.3036711  0.07242794 0.40943795]\n",
      " [0.4064502  0.3923803  0.25666893 ... 0.37643865 0.04465698 0.5530276 ]], shape=(1000, 128), dtype=float32)\n"
     ]
    }
   ],
   "source": [
    "if AUTOENCODER_TYPE == 'variational':\n",
    "    print(ae.layers[0].latent_entropy(x_train[:1000]))"
   ]
  }
 ],
 "metadata": {
  "kernelspec": {
   "display_name": "Python 3",
   "language": "python",
   "name": "python3"
  },
  "language_info": {
   "codemirror_mode": {
    "name": "ipython",
    "version": 3
   },
   "file_extension": ".py",
   "mimetype": "text/x-python",
   "name": "python",
   "nbconvert_exporter": "python",
   "pygments_lexer": "ipython3",
   "version": "3.7.7"
  },
  "toc-autonumbering": true,
  "toc-showcode": true,
  "toc-showmarkdowntxt": false
 },
 "nbformat": 4,
 "nbformat_minor": 4
}
