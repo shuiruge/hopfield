{
 "cells": [
  {
   "cell_type": "markdown",
   "metadata": {
    "colab_type": "text",
    "id": "E5dbakk-Yxau"
   },
   "source": [
    "## Data"
   ]
  },
  {
   "cell_type": "code",
   "execution_count": 1,
   "metadata": {},
   "outputs": [
    {
     "name": "stdout",
     "output_type": "stream",
     "text": [
      "2.3.1\n"
     ]
    }
   ],
   "source": [
    "import numpy as np\n",
    "import tensorflow as tf\n",
    "import matplotlib.pyplot as plt\n",
    "from hopfield import (\n",
    "    NonidentityRecon, DiscreteTimeHopfieldLayer, softsign)\n",
    "from mnist import load_mnist\n",
    "\n",
    "%matplotlib inline\n",
    "\n",
    "tf.random.set_seed(42)\n",
    "tf.keras.backend.clear_session()\n",
    "print(tf.__version__)"
   ]
  },
  {
   "cell_type": "code",
   "execution_count": 2,
   "metadata": {
    "colab": {},
    "colab_type": "code",
    "id": "J0QNHlhGAPX2"
   },
   "outputs": [],
   "source": [
    "IMAGE_SIZE = (32, 32)\n",
    "# IMAGE_SIZE = (8, 8)\n",
    "BINARIZE = True"
   ]
  },
  {
   "cell_type": "code",
   "execution_count": 3,
   "metadata": {},
   "outputs": [],
   "source": [
    "(x_train, _), _ = load_mnist(image_size=IMAGE_SIZE, binarize=BINARIZE)"
   ]
  },
  {
   "cell_type": "markdown",
   "metadata": {},
   "source": [
    "## Model"
   ]
  },
  {
   "cell_type": "code",
   "execution_count": 4,
   "metadata": {},
   "outputs": [],
   "source": [
    "class RBMRecon(NonidentityRecon):\n",
    "    \"\"\"Restricted Boltzmann machine (RBM) based non-identity re-constructor.\n",
    "\n",
    "    RBM -- LDPC -- AE\n",
    "\n",
    "    Notes\n",
    "    -----\n",
    "    Non-identity: The latent dimension `latent_dim` shall be smaller the\n",
    "        ambient dimension, for ensuring the non-identity of the re-constructor.\n",
    "\n",
    "    References\n",
    "    ----------\n",
    "    * Introduction to low-density parity-check (LDPC) code:\n",
    "        1. https://medium.com/5g-nr/ldpc-low-density-parity-check-code-8a4444153934\n",
    "    * Introduction to Boltzmann machine:\n",
    "        2. https://medium.com/edureka/restricted-boltzmann-machine-tutorial-991ae688c154\n",
    "    * Relation between Boltzmann machine and auto-encoder:\n",
    "        3. https://www.cs.cmu.edu/~rsalakhu/talk_Simons_part2_pdf.pdf\n",
    "\n",
    "    Parameters\n",
    "    ----------\n",
    "    latent_dim : int\n",
    "    softsign : callable, optional\n",
    "        Soft version of `sign` function. Softness means that the output of the\n",
    "        function is hard version, while the gradient is smooth (i.e. custom\n",
    "        gradient).\n",
    "    \"\"\"\n",
    "\n",
    "    def __init__(self,\n",
    "                 latent_dim,\n",
    "                 softsign=softsign,\n",
    "                 **kwargs):\n",
    "        super().__init__(**kwargs)\n",
    "        self.latent_dim = latent_dim\n",
    "        self.softsign = softsign\n",
    "\n",
    "    def get_config(self):\n",
    "        config = super().get_config()\n",
    "        config['latent_dim'] = self.latent_dim\n",
    "        config['softsign'] = self.softsign\n",
    "        return config\n",
    "\n",
    "    def build(self, input_shape):\n",
    "        depth = input_shape[-1]\n",
    "        assert depth > self.latent_dim\n",
    "\n",
    "        self.kernel = self.add_weight(\n",
    "            name='kernel',\n",
    "            shape=[depth, self.latent_dim],\n",
    "            initializer='glorot_uniform',\n",
    "            trainable=True)\n",
    "        self.latent_bias = self.add_weight(\n",
    "            name='latent_bias',\n",
    "            shape=[self.latent_dim],\n",
    "            initializer='zeros',\n",
    "            trainable=True)\n",
    "        self.ambient_bias = self.add_weight(\n",
    "            name='ambient_bias',\n",
    "            shape=[depth],\n",
    "            initializer='zeros',\n",
    "            trainable=True)\n",
    "        super().build(input_shape)\n",
    "\n",
    "    def call(self, x):\n",
    "        f = self.softsign\n",
    "        W, b, v = self.kernel, self.latent_bias, self.ambient_bias\n",
    "        z = f(x @ W + b)\n",
    "        y = f(z @ tf.transpose(W) + v)\n",
    "        return y"
   ]
  },
  {
   "cell_type": "code",
   "execution_count": 6,
   "metadata": {},
   "outputs": [],
   "source": [
    "def create_model(num_repeat, latent_dim):\n",
    "    model = tf.keras.Sequential([\n",
    "        tf.keras.layers.RepeatVector(num_repeat),\n",
    "        tf.keras.layers.Reshape([-1]),\n",
    "        DiscreteTimeHopfieldLayer(\n",
    "            RBMRecon(latent_dim),\n",
    "            max_steps=20,\n",
    "            reg_factor=1),\n",
    "        tf.keras.layers.Reshape([num_repeat, -1]),\n",
    "        tf.keras.layers.Lambda(\n",
    "            lambda x: softsign(tf.reduce_mean(x, axis=-2))),\n",
    "    ])\n",
    "    model.compile(optimizer='adam')\n",
    "    return model"
   ]
  },
  {
   "cell_type": "code",
   "execution_count": 7,
   "metadata": {
    "colab": {
     "base_uri": "https://localhost:8080/",
     "height": 53
    },
    "colab_type": "code",
    "id": "kbqJL6p9GjLe",
    "outputId": "e92d7d0f-3a91-42fe-c48a-9b051c9b0ea8"
   },
   "outputs": [
    {
     "name": "stdout",
     "output_type": "stream",
     "text": [
      "7813/7813 [==============================] - 46s 6ms/step - loss: 0.0017\n"
     ]
    },
    {
     "data": {
      "text/plain": [
       "<tensorflow.python.keras.callbacks.History at 0x7f0b1325f3d0>"
      ]
     },
     "execution_count": 7,
     "metadata": {},
     "output_type": "execute_result"
    }
   ],
   "source": [
    "X = x_train[:100].numpy()\n",
    "\n",
    "if IMAGE_SIZE == (8, 8):\n",
    "    num_repeat = 16\n",
    "    model = create_model(num_repeat=16, latent_dim=256)\n",
    "elif IMAGE_SIZE == (32, 32):\n",
    "    num_repeat = 1\n",
    "else:\n",
    "    raise NotImplementedError()\n",
    "model = create_model(num_repeat, latent_dim=256)\n",
    "\n",
    "ds0 = tf.data.Dataset.from_tensor_slices(X)\n",
    "ds = ds0.shuffle(10000).repeat(10000).batch(128)\n",
    "model.fit(ds)"
   ]
  },
  {
   "cell_type": "code",
   "execution_count": 8,
   "metadata": {},
   "outputs": [
    {
     "name": "stdout",
     "output_type": "stream",
     "text": [
      "Model: \"sequential\"\n",
      "_________________________________________________________________\n",
      "Layer (type)                 Output Shape              Param #   \n",
      "=================================================================\n",
      "repeat_vector (RepeatVector) (None, 1, 1024)           0         \n",
      "_________________________________________________________________\n",
      "reshape (Reshape)            (None, 1024)              0         \n",
      "_________________________________________________________________\n",
      "discrete_time_hopfield_layer (None, 1024)              263425    \n",
      "_________________________________________________________________\n",
      "reshape_1 (Reshape)          (None, 1, 1024)           0         \n",
      "_________________________________________________________________\n",
      "lambda (Lambda)              (None, 1024)              0         \n",
      "=================================================================\n",
      "Total params: 263,425\n",
      "Trainable params: 263,424\n",
      "Non-trainable params: 1\n",
      "_________________________________________________________________\n"
     ]
    }
   ],
   "source": [
    "model.summary()"
   ]
  },
  {
   "cell_type": "code",
   "execution_count": 9,
   "metadata": {},
   "outputs": [
    {
     "name": "stdout",
     "output_type": "stream",
     "text": [
      "Relax steps: 6\n",
      "2.0 => 0.0\n"
     ]
    }
   ],
   "source": [
    "# noised_X = X + np.random.normal(size=X.shape) * 0.3\n",
    "noised_X = np.where(np.random.random(size=X.shape) < 0.2, -X, X)\n",
    "recon_X = model.predict(noised_X)\n",
    "\n",
    "for layer in model.layers:\n",
    "    try:\n",
    "        print('Relax steps:', layer.final_step.numpy())\n",
    "    except AttributeError:\n",
    "        pass\n",
    "\n",
    "orig_err = noised_X - X\n",
    "err = recon_X - X\n",
    "print(f'{np.quantile(np.abs(orig_err), 0.98)} => '\n",
    "      f'{np.quantile(np.abs(err), 0.98)}')"
   ]
  },
  {
   "cell_type": "code",
   "execution_count": 10,
   "metadata": {},
   "outputs": [
    {
     "data": {
      "image/png": "[encoded data removed]",
      "text/plain": [
       "<Figure size 432x288 with 1 Axes>"
      ]
     },
     "metadata": {
      "needs_background": "light"
     },
     "output_type": "display_data"
    }
   ],
   "source": [
    "original_W = model.layers[2].non_identity_recon.kernel.numpy()\n",
    "\n",
    "# plot W's histogram\n",
    "plt.hist(original_W.reshape([-1]), bins=50)\n",
    "plt.show()"
   ]
  },
  {
   "cell_type": "code",
   "execution_count": 11,
   "metadata": {},
   "outputs": [
    {
     "data": {
      "image/png": "[encoded data removed]",
      "text/plain": [
       "<Figure size 432x288 with 1 Axes>"
      ]
     },
     "metadata": {
      "needs_background": "light"
     },
     "output_type": "display_data"
    }
   ],
   "source": [
    "# clip the small value elements of the W\n",
    "clipped_W = np.where(np.abs(original_W) < 0.05, 0., original_W)\n",
    "model.layers[2].non_identity_recon.kernel.assign(\n",
    "    tf.constant(clipped_W, dtype='float32'))\n",
    "\n",
    "# plot W's histogram, after clipping\n",
    "plt.hist(clipped_W.reshape([-1]), bins=50)\n",
    "plt.show()"
   ]
  },
  {
   "cell_type": "code",
   "execution_count": 12,
   "metadata": {},
   "outputs": [
    {
     "name": "stdout",
     "output_type": "stream",
     "text": [
      "Relax steps: 7\n",
      "2.0 => 0.0\n"
     ]
    }
   ],
   "source": [
    "# use the clipped model to test the de-noising effect\n",
    "\n",
    "recon_X = model.predict(noised_X)\n",
    "\n",
    "for layer in model.layers:\n",
    "    try:\n",
    "        print('Relax steps:', layer.final_step.numpy())\n",
    "    except AttributeError:\n",
    "        pass\n",
    "\n",
    "orig_err = noised_X - X\n",
    "err = recon_X - X\n",
    "print(f'{np.quantile(np.abs(orig_err), 0.98)} => '\n",
    "      f'{np.quantile(np.abs(err), 0.98)}')"
   ]
  },
  {
   "cell_type": "code",
   "execution_count": 14,
   "metadata": {},
   "outputs": [
    {
     "name": "stdout",
     "output_type": "stream",
     "text": [
      "Clip ratio: 0.6825637817382812\n"
     ]
    }
   ],
   "source": [
    "print('Clip ratio:', np.mean(clipped_W != original_W))"
   ]
  },
  {
   "cell_type": "markdown",
   "metadata": {},
   "source": [
    "## Conclusions\n",
    "\n",
    "1. RBM based (soft) binary re-constructor also provides the de-noising property for the discrete-time Hopfield network. Also, it solves the problem of the traditional dense re-constructor, the case where the input dimension is too small so that the perceptron cannot get enough capacity for learning sufficient many patterns. (Recall that simply duplicating the pattern will break the non-identity down for the traditional dense re-constructor. But it's fine in case of the RBM based re-constructor.)\n",
    "1. However, comparing with the traditional dense re-constructor, the de-noising effect, even though still persists, reduces.\n",
    "1. Using soft activation in training phase while hard one in other phase cannot gain the previous properties. Only with a soften hard-activation can it gain. The reason maybe that binarization of output will reduce the difficulty of learning, since this output, as the input of the next layer, is regularized for the next layer."
   ]
  }
 ],
 "metadata": {
  "colab": {
   "collapsed_sections": [],
   "name": "EHL.ipynb",
   "provenance": [],
   "toc_visible": true
  },
  "kernelspec": {
   "display_name": "Python 3",
   "language": "python",
   "name": "python3"
  },
  "language_info": {
   "codemirror_mode": {
    "name": "ipython",
    "version": 3
   },
   "file_extension": ".py",
   "mimetype": "text/x-python",
   "name": "python",
   "nbconvert_exporter": "python",
   "pygments_lexer": "ipython3",
   "version": "3.8.2"
  },
  "toc-showcode": true
 },
 "nbformat": 4,
 "nbformat_minor": 4
}
