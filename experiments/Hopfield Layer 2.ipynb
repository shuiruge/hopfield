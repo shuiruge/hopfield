{
 "cells": [
  {
   "cell_type": "markdown",
   "metadata": {
    "colab_type": "text",
    "id": "E5dbakk-Yxau"
   },
   "source": [
    "## Data"
   ]
  },
  {
   "cell_type": "code",
   "execution_count": 1,
   "metadata": {},
   "outputs": [
    {
     "name": "stdout",
     "output_type": "stream",
     "text": [
      "2.3.0\n"
     ]
    }
   ],
   "source": [
    "import numpy as np\n",
    "import tensorflow as tf\n",
    "\n",
    "from hopfield import DenseRecon, DiscreteTimeHopfieldLayer, soft_sign\n",
    "from mnist import load_mnist\n",
    "\n",
    "tf.random.set_seed(42)\n",
    "\n",
    "tf.keras.backend.clear_session()\n",
    "\n",
    "print(tf.__version__)"
   ]
  },
  {
   "cell_type": "code",
   "execution_count": 2,
   "metadata": {
    "colab": {},
    "colab_type": "code",
    "id": "J0QNHlhGAPX2"
   },
   "outputs": [],
   "source": [
    "# IMAGE_SIZE = (32, 32)\n",
    "IMAGE_SIZE = (8, 8)  # XXX: test!\n",
    "BINARIZE = True\n",
    "# BINARIZE = False"
   ]
  },
  {
   "cell_type": "code",
   "execution_count": 3,
   "metadata": {},
   "outputs": [],
   "source": [
    "(x_train, _), _ = load_mnist(image_size=IMAGE_SIZE, binarize=BINARIZE)"
   ]
  },
  {
   "cell_type": "markdown",
   "metadata": {},
   "source": [
    "## Model"
   ]
  },
  {
   "cell_type": "code",
   "execution_count": 4,
   "metadata": {},
   "outputs": [],
   "source": [
    "class Padding(tf.keras.layers.Layer):\n",
    "\n",
    "    def __init__(self, num_pads, pad_value, **kwargs):\n",
    "        super().__init__(**kwargs)\n",
    "        self.num_pads = num_pads\n",
    "        if isinstance(pad_value, (list, tuple)):\n",
    "            self.pad_value = tuple(map(float, pad_value))\n",
    "        else:\n",
    "            self.pad_value = float(pad_value)\n",
    "\n",
    "    def get_config(self):\n",
    "        config = super().get_config()\n",
    "        config['num_pads'] = self.num_pads\n",
    "        config['pad_value'] = self.pad_value\n",
    "        return config\n",
    "\n",
    "    def build(self, batch_input_shape):\n",
    "        self._padding_shape = batch_input_shape[:-1] + [self.num_pads]\n",
    "        super().build(batch_input_shape)\n",
    "\n",
    "    def call(self, x):\n",
    "        padding_shape = tf.concat(\n",
    "            [tf.shape(x)[:-1], tf.constant([self.num_pads])], axis=0)\n",
    "        if isinstance(self.pad_value, tuple):\n",
    "            minval, maxval = self.pad_value\n",
    "            pads = sign(\n",
    "                tf.random.uniform(\n",
    "                    padding_shape, minval, maxval, dtype=x.dtype))\n",
    "        else:\n",
    "            pads = self.pad_value * tf.ones(padding_shape)\n",
    "        y = tf.concat([x, pads], axis=-1)\n",
    "        return y\n",
    "\n",
    "\n",
    "def sign(x):\n",
    "    y = tf.where(x > 0, 1, -1)\n",
    "    y = tf.cast(y, x.dtype)\n",
    "    return y"
   ]
  },
  {
   "cell_type": "code",
   "execution_count": 5,
   "metadata": {},
   "outputs": [],
   "source": [
    "def create_model():\n",
    "    model = tf.keras.Sequential([\n",
    "        DiscreteTimeHopfieldLayer(\n",
    "            DenseRecon(),\n",
    "            max_steps=20,\n",
    "            reg_factor=1),\n",
    "    ])\n",
    "    model.compile(optimizer='adam')\n",
    "    return model"
   ]
  },
  {
   "cell_type": "code",
   "execution_count": 6,
   "metadata": {},
   "outputs": [],
   "source": [
    "def create_model_by_repeating(num_repeat=1):\n",
    "    model = tf.keras.Sequential([\n",
    "        tf.keras.layers.RepeatVector(num_repeat),\n",
    "        tf.keras.layers.Flatten(),\n",
    "        DiscreteTimeHopfieldLayer(\n",
    "            DenseRecon(),\n",
    "            max_steps=20,\n",
    "            reg_factor=1),\n",
    "        tf.keras.layers.Reshape([num_repeat, -1]),\n",
    "        tf.keras.layers.Lambda(\n",
    "            lambda x: soft_sign(tf.reduce_mean(x, axis=-2))),\n",
    "    ])\n",
    "    model.compile(optimizer='adam')\n",
    "    return model"
   ]
  },
  {
   "cell_type": "code",
   "execution_count": 7,
   "metadata": {},
   "outputs": [],
   "source": [
    "def create_model_by_padding(num_pads, pad_value):\n",
    "    model = tf.keras.Sequential([\n",
    "        Padding(num_pads, pad_value),\n",
    "        DiscreteTimeHopfieldLayer(\n",
    "            DenseRecon(),\n",
    "            max_steps=20,\n",
    "            reg_factor=1),\n",
    "        tf.keras.layers.Lambda(\n",
    "            lambda x: x[..., :(IMAGE_SIZE[0] * IMAGE_SIZE[1])]),\n",
    "    ])\n",
    "    model.compile(optimizer='adam')\n",
    "    return model"
   ]
  },
  {
   "cell_type": "code",
   "execution_count": 8,
   "metadata": {
    "colab": {
     "base_uri": "https://localhost:8080/",
     "height": 53
    },
    "colab_type": "code",
    "id": "kbqJL6p9GjLe",
    "outputId": "e92d7d0f-3a91-42fe-c48a-9b051c9b0ea8"
   },
   "outputs": [
    {
     "name": "stdout",
     "output_type": "stream",
     "text": [
      "7813/7813 [==============================] - 161s 21ms/step - loss: 0.0190\n"
     ]
    },
    {
     "data": {
      "text/plain": [
       "<tensorflow.python.keras.callbacks.History at 0x7f6ee76bdd90>"
      ]
     },
     "execution_count": 8,
     "metadata": {},
     "output_type": "execute_result"
    }
   ],
   "source": [
    "# X = x_train[:100].numpy()\n",
    "X = x_train.numpy().reshape([-1, 1024])[:100]\n",
    "\n",
    "ds0 = tf.data.Dataset.from_tensor_slices(X)\n",
    "ds = ds0.shuffle(10000).repeat(10000).batch(128)\n",
    "model = create_model()\n",
    "# model = create_model_by_padding(num_pads=(64 * 15), pad_value=-1)\n",
    "model.fit(ds)"
   ]
  },
  {
   "cell_type": "code",
   "execution_count": 9,
   "metadata": {},
   "outputs": [
    {
     "name": "stdout",
     "output_type": "stream",
     "text": [
      "Model: \"sequential\"\n",
      "_________________________________________________________________\n",
      "Layer (type)                 Output Shape              Param #   \n",
      "=================================================================\n",
      "discrete_time_hopfield_layer (None, 1024)              1049601   \n",
      "=================================================================\n",
      "Total params: 1,049,601\n",
      "Trainable params: 1,049,600\n",
      "Non-trainable params: 1\n",
      "_________________________________________________________________\n"
     ]
    }
   ],
   "source": [
    "model.summary()"
   ]
  },
  {
   "cell_type": "code",
   "execution_count": 10,
   "metadata": {},
   "outputs": [
    {
     "name": "stdout",
     "output_type": "stream",
     "text": [
      "Relax steps: 6\n",
      "2.0 => 0.0\n"
     ]
    }
   ],
   "source": [
    "# noised_X = X + np.random.normal(size=X.shape) * 0.3\n",
    "noised_X = np.where(np.random.random(size=X.shape) < 0.3, -X, X)\n",
    "recon_X = model.predict(noised_X)\n",
    "\n",
    "for layer in model.layers:\n",
    "    try:\n",
    "        print('Relax steps:', layer.final_step.numpy())\n",
    "    except AttributeError:\n",
    "        pass\n",
    "\n",
    "orig_err = noised_X - X\n",
    "err = recon_X - X\n",
    "print(f'{np.quantile(np.abs(orig_err), 0.99)} => '\n",
    "      f'{np.quantile(np.abs(err), 0.99)}')"
   ]
  },
  {
   "cell_type": "code",
   "execution_count": 11,
   "metadata": {},
   "outputs": [
    {
     "data": {
      "text/plain": [
       "(array([[-1., -1., -1., ..., -1., -1., -1.],\n",
       "        [-1., -1., -1., ..., -1., -1., -1.],\n",
       "        [-1., -1., -1., ..., -1., -1., -1.],\n",
       "        ...,\n",
       "        [-1., -1., -1., ..., -1., -1., -1.],\n",
       "        [-1., -1., -1., ..., -1., -1., -1.],\n",
       "        [-1., -1., -1., ..., -1., -1., -1.]], dtype=float32),\n",
       " array([[-1., -1., -1., ..., -1., -1., -1.],\n",
       "        [-1., -1., -1., ..., -1., -1., -1.],\n",
       "        [-1., -1., -1., ..., -1., -1., -1.],\n",
       "        ...,\n",
       "        [-1., -1., -1., ..., -1., -1., -1.],\n",
       "        [-1., -1., -1., ..., -1., -1., -1.],\n",
       "        [-1., -1., -1., ..., -1., -1., -1.]], dtype=float32))"
      ]
     },
     "execution_count": 11,
     "metadata": {},
     "output_type": "execute_result"
    }
   ],
   "source": [
    "X, recon_X"
   ]
  },
  {
   "cell_type": "markdown",
   "metadata": {},
   "source": [
    "## Conclusions\n",
    "\n"
   ]
  },
  {
   "cell_type": "markdown",
   "metadata": {},
   "source": [
    "### Methods of Dimensional Extension\n",
    "\n",
    "* repeating: ×\n",
    "* padding by given value: ×\n",
    "* padding by random value: ×\n",
    "* input grouping: √"
   ]
  },
  {
   "cell_type": "code",
   "execution_count": null,
   "metadata": {},
   "outputs": [],
   "source": []
  }
 ],
 "metadata": {
  "colab": {
   "collapsed_sections": [],
   "name": "EHL.ipynb",
   "provenance": [],
   "toc_visible": true
  },
  "kernelspec": {
   "display_name": "Python 3",
   "language": "python",
   "name": "python3"
  },
  "language_info": {
   "codemirror_mode": {
    "name": "ipython",
    "version": 3
   },
   "file_extension": ".py",
   "mimetype": "text/x-python",
   "name": "python",
   "nbconvert_exporter": "python",
   "pygments_lexer": "ipython3",
   "version": "3.7.9"
  }
 },
 "nbformat": 4,
 "nbformat_minor": 4
}
