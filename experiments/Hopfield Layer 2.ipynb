{
 "cells": [
  {
   "cell_type": "markdown",
   "metadata": {
    "colab_type": "text",
    "id": "E5dbakk-Yxau"
   },
   "source": [
    "## Data"
   ]
  },
  {
   "cell_type": "code",
   "execution_count": 1,
   "metadata": {},
   "outputs": [
    {
     "name": "stdout",
     "output_type": "stream",
     "text": [
      "2.3.0\n"
     ]
    }
   ],
   "source": [
    "import numpy as np\n",
    "import tensorflow as tf\n",
    "\n",
    "from hopfield import DenseRecon, DiscreteTimeHopfieldLayer, sign\n",
    "from mnist import load_mnist\n",
    "\n",
    "tf.random.set_seed(42)\n",
    "\n",
    "tf.keras.backend.clear_session()\n",
    "\n",
    "print(tf.__version__)"
   ]
  },
  {
   "cell_type": "code",
   "execution_count": 2,
   "metadata": {
    "colab": {},
    "colab_type": "code",
    "id": "J0QNHlhGAPX2"
   },
   "outputs": [],
   "source": [
    "IMAGE_SIZE = (32, 32)\n",
    "# IMAGE_SIZE = (8, 8)  # XXX: test!\n",
    "BINARIZE = True\n",
    "# BINARIZE = False"
   ]
  },
  {
   "cell_type": "code",
   "execution_count": 3,
   "metadata": {},
   "outputs": [],
   "source": [
    "(x_train, _), _ = load_mnist(image_size=IMAGE_SIZE, binarize=BINARIZE)"
   ]
  },
  {
   "cell_type": "markdown",
   "metadata": {},
   "source": [
    "## Model"
   ]
  },
  {
   "cell_type": "code",
   "execution_count": 4,
   "metadata": {},
   "outputs": [],
   "source": [
    "def softly_sign(x, from_logits=False):\n",
    "    \"\"\"Returns 1 if x > threshold else -1, element-wisely, with the gradients\n",
    "    :math:`\\partial f_i / \\partial x_j = \\delta_{i j}`, i.e. an unit Jacobian.\n",
    "\n",
    "    Parameters\n",
    "    ----------\n",
    "    x : tensor\n",
    "    from_logits : bool, optional\n",
    "        If true, then softly binarize sigmoid(x) instead of x.\n",
    "\n",
    "    Returns\n",
    "    -------\n",
    "    tensor\n",
    "        The same shape and dtype as x.\n",
    "    \"\"\"\n",
    "\n",
    "    def identity(dy):\n",
    "        return dy\n",
    "\n",
    "    @tf.custom_gradient\n",
    "    def fn(x):\n",
    "        y = sign(x)\n",
    "        return y, identity\n",
    "\n",
    "    return fn(tf.nn.tanh(x)) if from_logits else fn(x)"
   ]
  },
  {
   "cell_type": "code",
   "execution_count": 5,
   "metadata": {},
   "outputs": [],
   "source": [
    "def create_model(num_repeat):\n",
    "    model = tf.keras.Sequential([\n",
    "        tf.keras.layers.RepeatVector(num_repeat),\n",
    "        tf.keras.layers.Flatten(),\n",
    "        DiscreteTimeHopfieldLayer(\n",
    "            DenseRecon(\n",
    "                activation=tf.tanh,\n",
    "                binarize=sign,\n",
    "            ),\n",
    "            max_steps=100,\n",
    "            reg_factor=1),\n",
    "        tf.keras.layers.Reshape([num_repeat, -1]),\n",
    "        tf.keras.layers.Lambda(\n",
    "            lambda x: softly_sign(tf.reduce_mean(x, axis=-2))),\n",
    "    ])\n",
    "    model.compile(optimizer='adam')\n",
    "    return model"
   ]
  },
  {
   "cell_type": "code",
   "execution_count": 6,
   "metadata": {
    "colab": {
     "base_uri": "https://localhost:8080/",
     "height": 53
    },
    "colab_type": "code",
    "id": "kbqJL6p9GjLe",
    "outputId": "e92d7d0f-3a91-42fe-c48a-9b051c9b0ea8"
   },
   "outputs": [
    {
     "name": "stdout",
     "output_type": "stream",
     "text": [
      "7813/7813 [==============================] - 43s 5ms/step - loss: 0.0286\n"
     ]
    },
    {
     "data": {
      "text/plain": [
       "<tensorflow.python.keras.callbacks.History at 0x7fd6193a5e10>"
      ]
     },
     "execution_count": 6,
     "metadata": {},
     "output_type": "execute_result"
    }
   ],
   "source": [
    "model = create_model()\n",
    "X = x_train[:100].numpy()\n",
    "\n",
    "import pickle\n",
    "with open('../dat/training_z.pkl', 'rb') as f:\n",
    "    training_z = pickle.load(f)\n",
    "training_z = training_z * 2 - 1\n",
    "X = training_z[:100]\n",
    "\n",
    "ds0 = tf.data.Dataset.from_tensor_slices(X)\n",
    "ds = ds0.shuffle(10000).repeat(10000).batch(128)\n",
    "model.fit(ds)"
   ]
  },
  {
   "cell_type": "code",
   "execution_count": 7,
   "metadata": {},
   "outputs": [
    {
     "name": "stdout",
     "output_type": "stream",
     "text": [
      "Model: \"sequential\"\n",
      "_________________________________________________________________\n",
      "Layer (type)                 Output Shape              Param #   \n",
      "=================================================================\n",
      "repeat_vector (RepeatVector) (None, 8, 64)             0         \n",
      "_________________________________________________________________\n",
      "flatten (Flatten)            (None, 512)               0         \n",
      "_________________________________________________________________\n",
      "discrete_time_hopfield_layer (None, 512)               262657    \n",
      "_________________________________________________________________\n",
      "reshape (Reshape)            (None, 8, 64)             0         \n",
      "_________________________________________________________________\n",
      "lambda (Lambda)              (None, 64)                0         \n",
      "=================================================================\n",
      "Total params: 262,657\n",
      "Trainable params: 262,656\n",
      "Non-trainable params: 1\n",
      "_________________________________________________________________\n"
     ]
    }
   ],
   "source": [
    "model.summary()"
   ]
  },
  {
   "cell_type": "code",
   "execution_count": 8,
   "metadata": {},
   "outputs": [
    {
     "name": "stdout",
     "output_type": "stream",
     "text": [
      "Relax steps: 99\n",
      "2.0 => 2.0\n"
     ]
    }
   ],
   "source": [
    "# noised_X = X + np.random.normal(size=X.shape) * 0.3\n",
    "noised_X = np.where(np.random.random(size=X.shape) < 0.3, -X, X)\n",
    "recon_X = model.predict(noised_X)\n",
    "\n",
    "print('Relax steps:', model.layers[2].final_step.numpy())\n",
    "\n",
    "orig_err = noised_X - X\n",
    "err = recon_X - X\n",
    "print(f'{np.quantile(np.abs(orig_err), 0.99)} => '\n",
    "      f'{np.quantile(np.abs(err), 0.99)}')"
   ]
  },
  {
   "cell_type": "code",
   "execution_count": 9,
   "metadata": {},
   "outputs": [
    {
     "data": {
      "text/plain": [
       "(<tf.Tensor: shape=(100, 64), dtype=float32, numpy=\n",
       " array([[-1.,  1., -1., ..., -1., -1.,  1.],\n",
       "        [-1., -1., -1., ..., -1., -1.,  1.],\n",
       "        [ 1.,  1., -1., ..., -1.,  1., -1.],\n",
       "        ...,\n",
       "        [-1.,  1.,  1., ...,  1., -1.,  1.],\n",
       "        [ 1.,  1., -1., ..., -1., -1., -1.],\n",
       "        [-1.,  1.,  1., ...,  1., -1., -1.]], dtype=float32)>,\n",
       " array([[ 1.,  1., -1., ..., -1.,  1.,  1.],\n",
       "        [ 1., -1., -1., ..., -1.,  1.,  1.],\n",
       "        [ 1., -1.,  1., ..., -1.,  1., -1.],\n",
       "        ...,\n",
       "        [-1.,  1., -1., ...,  1., -1.,  1.],\n",
       "        [-1.,  1., -1., ..., -1., -1.,  1.],\n",
       "        [-1.,  1., -1., ...,  1., -1., -1.]], dtype=float32))"
      ]
     },
     "execution_count": 9,
     "metadata": {},
     "output_type": "execute_result"
    }
   ],
   "source": [
    "X, recon_X"
   ]
  },
  {
   "cell_type": "markdown",
   "metadata": {},
   "source": [
    "## Conclusions and Discussions"
   ]
  },
  {
   "cell_type": "code",
   "execution_count": null,
   "metadata": {},
   "outputs": [],
   "source": []
  }
 ],
 "metadata": {
  "colab": {
   "collapsed_sections": [],
   "name": "EHL.ipynb",
   "provenance": [],
   "toc_visible": true
  },
  "kernelspec": {
   "display_name": "Python 3",
   "language": "python",
   "name": "python3"
  },
  "language_info": {
   "codemirror_mode": {
    "name": "ipython",
    "version": 3
   },
   "file_extension": ".py",
   "mimetype": "text/x-python",
   "name": "python",
   "nbconvert_exporter": "python",
   "pygments_lexer": "ipython3",
   "version": "3.7.9"
  }
 },
 "nbformat": 4,
 "nbformat_minor": 4
}
